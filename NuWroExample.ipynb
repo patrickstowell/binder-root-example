{
 "cells": [
  {
   "cell_type": "code",
   "execution_count": 1,
   "id": "65cc6a33-0011-40ef-9132-24c82633cd24",
   "metadata": {},
   "outputs": [
    {
     "name": "stdout",
     "output_type": "stream",
     "text": [
      "Run Cell to Run NuWro"
     ]
    }
   ],
   "source": [
    "!nuwro"
   ]
  },
  {
   "cell_type": "code",
   "execution_count": null,
   "id": "321a7f26-84b5-4e15-9753-0d65121d973a",
   "metadata": {},
   "outputs": [],
   "source": []
  }
 ],
 "metadata": {
  "kernelspec": {
   "display_name": "Python 3 (ipykernel)",
   "language": "python",
   "name": "python3"
  },
  "language_info": {
   "codemirror_mode": {
    "name": "ipython",
    "version": 3
   },
   "file_extension": ".py",
   "mimetype": "text/x-python",
   "name": "python",
   "nbconvert_exporter": "python",
   "pygments_lexer": "ipython3",
   "version": "3.10.12"
  }
 },
 "nbformat": 4,
 "nbformat_minor": 5
}
